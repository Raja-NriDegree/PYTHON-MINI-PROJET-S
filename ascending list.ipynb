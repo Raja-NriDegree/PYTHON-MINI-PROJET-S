{
 "cells": [
  {
   "cell_type": "code",
   "execution_count": 3,
   "metadata": {},
   "outputs": [
    {
     "name": "stdout",
     "output_type": "stream",
     "text": [
      "The output list: [-5824, -89, -58.02, -52, -0.9119464991387172, 1.4, 5, 8, 12, 16.11111111111111, 23, 34, 65, 70.25]\n"
     ]
    }
   ],
   "source": [
    "def ascending_order(list):\n",
    "    my_list = []\n",
    "    for num in list:  \n",
    "        if len(my_list) == 0 or num >= my_list[-1]:\n",
    "            my_list.append(num)\n",
    "        else:\n",
    "            for r in range(len(my_list)):\n",
    "                if num < my_list[r]:\n",
    "                    my_list.insert(r, num)\n",
    "                    break\n",
    "    return my_list\n",
    "result= [34, 12, 5, 65, 23, 8,-52, -89, -5824, 70.25, -58.02, 7/5, 58/3.6, 90/-98.69] \n",
    "my_list = ascending_order(result)\n",
    "print(\"The output list:\", my_list)\n"
   ]
  }
 ],
 "metadata": {
  "kernelspec": {
   "display_name": "Python 3",
   "language": "python",
   "name": "python3"
  },
  "language_info": {
   "codemirror_mode": {
    "name": "ipython",
    "version": 3
   },
   "file_extension": ".py",
   "mimetype": "text/x-python",
   "name": "python",
   "nbconvert_exporter": "python",
   "pygments_lexer": "ipython3",
   "version": "3.10.10"
  }
 },
 "nbformat": 4,
 "nbformat_minor": 2
}
